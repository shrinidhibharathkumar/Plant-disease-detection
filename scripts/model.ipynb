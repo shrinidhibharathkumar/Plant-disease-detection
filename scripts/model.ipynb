{
 "cells": [
  {
   "cell_type": "code",
   "execution_count": 2,
   "metadata": {},
   "outputs": [],
   "source": [
    "from ultralytics import YOLO\n",
    "\n",
    "model = YOLO(\"../models/best12n.pt\")  # load an official model"
   ]
  },
  {
   "cell_type": "code",
   "execution_count": 3,
   "metadata": {},
   "outputs": [],
   "source": [
    "IMG_PATH = \"C:\\\\Projects\\\\Plant-disease-detection\\\\datasets\\\\test\\\\images\\\\Bell-pepper-plant-JPG_jpg.rf.072ba7b994cf3600e558d28009ff6958.jpg\"\n"
   ]
  },
  {
   "cell_type": "code",
   "execution_count": 7,
   "metadata": {},
   "outputs": [
    {
     "name": "stdout",
     "output_type": "stream",
     "text": [
      "\n",
      "image 1/1 C:\\Projects\\Plant-disease-detection\\datasets\\test\\images\\Bell-pepper-plant-JPG_jpg.rf.072ba7b994cf3600e558d28009ff6958.jpg: 640x640 17 Bell_pepper leafs, 22.3ms\n",
      "Speed: 4.9ms preprocess, 22.3ms inference, 297.5ms postprocess per image at shape (1, 3, 640, 640)\n"
     ]
    }
   ],
   "source": [
    "result=model.predict(IMG_PATH)\n",
    "result[0].show()"
   ]
  },
  {
   "cell_type": "code",
   "execution_count": 6,
   "metadata": {},
   "outputs": [
    {
     "name": "stdout",
     "output_type": "stream",
     "text": [
      "YOLOv12n summary: 272 layers, 2,573,703 parameters, 0 gradients, 6.5 GFLOPs\n"
     ]
    },
    {
     "data": {
      "text/plain": [
       "(272, 2573703, 0, 6.5099264)"
      ]
     },
     "execution_count": 6,
     "metadata": {},
     "output_type": "execute_result"
    }
   ],
   "source": [
    "model.info()"
   ]
  }
 ],
 "metadata": {
  "kernelspec": {
   "display_name": ".venv",
   "language": "python",
   "name": "python3"
  },
  "language_info": {
   "codemirror_mode": {
    "name": "ipython",
    "version": 3
   },
   "file_extension": ".py",
   "mimetype": "text/x-python",
   "name": "python",
   "nbconvert_exporter": "python",
   "pygments_lexer": "ipython3",
   "version": "3.12.9"
  }
 },
 "nbformat": 4,
 "nbformat_minor": 2
}
